{
 "cells": [
  {
   "cell_type": "markdown",
   "metadata": {},
   "source": [
    "# Lecture 04: Numbers, recursion, and continued fractions."
   ]
  },
  {
   "cell_type": "markdown",
   "metadata": {},
   "source": [
    "In the tutorial this week, we are experimenting with numbers and their different representations. \n",
    "\n",
    "We explore how to compute iterations of rational numbers that converge to irrational numbers. \n",
    "\n",
    "<br>"
   ]
  },
  {
   "cell_type": "markdown",
   "metadata": {},
   "source": [
    "## Dino, telling it like it is!\n",
    "\n",
    "http://www.qwantz.com/index.php?comic=2976\n",
    "\n",
    "\n",
    "<img src=\"http://www.qwantz.com/comics/comic2-2982.png\" width=\"600\" height=\"500\" />\n"
   ]
  },
  {
   "cell_type": "markdown",
   "metadata": {},
   "source": [
    "**Here's a review of introductory material in that tutorial:**"
   ]
  },
  {
   "cell_type": "markdown",
   "metadata": {},
   "source": [
    "### The Number line\n",
    "\n",
    "It seems obvious that real numbers $\\mathbb{R}$ are a key element of computation. But there are some subtle aspects to numbers that it's worth thinking about. We think of numbers along a line like this:\n",
    "\n",
    "<img src=\"https://upload.wikimedia.org/wikipedia/commons/thumb/d/d7/Real_number_line.svg/1000px-Real_number_line.svg.png\" width=\"600\" height=\"500\" />\n",
    "\n",
    "You are told that *\"almost all\"* of the numbers on this line are irrational. That means if you throw a dart at the line you should never \"hit\" a rational number. The irrationals fill the entire line. "
   ]
  },
  {
   "cell_type": "markdown",
   "metadata": {},
   "source": [
    "### But there is a paradox:\n",
    "\n",
    "***No one has ever met a true irrational number in person. We hear a lot of name dropping. People say things like, \"I know $\\pi$ and $e$.\" They are big celebrities in some circles. But no one's ever really seen them in their total infinity. Only fleeting glimpses as they run down the street and jump into a limo.***\n",
    "\n",
    "<h1><center>It's difficult of find hay in a haystack!!</center></h1>\n",
    "\n",
    "### My personal philosophical view: \n",
    "\n",
    "* Irrational numbers are a convenient fiction. \n",
    "\n",
    "\n",
    "* They are *\"defined\"* as the completion of the rationals under limits of Cauchy sequences. \n",
    "\n",
    "\n",
    "* What?\n",
    "\n",
    "\n",
    "* Just so we're clear, I use irrational numbers everyday (more than most people). I just don't *believe* in them.\n",
    "\n",
    "\n",
    "* I *do* believe in *fractions*.\n",
    "\n",
    "### Cauchy sequence \n",
    "\n",
    "* Say you have a sequence of rationals (ie \"fractions\" or ratios of integers): \n",
    "\n",
    "$$ \\large r_{0}, r_{1}, r_{2}, \\ldots, r_{n}, r_{n+1}, \\ldots$$\n",
    "\n",
    "\n",
    "* You should have a way of making the sequence go one forever. You can always generate another number in the sequence. \n",
    "\n",
    "\n",
    "* And say you have a way of comparing the *distance* between any two numbers,\n",
    "\n",
    "$$\\large | r_{n} - r_{m} |. $$\n",
    "\n",
    "* There are more subtleties to measuring distance than you might first think. But let's just assume this is the usual method of subtracting things.\n",
    "\n",
    "\n",
    "* Now say that for any tiny number you pick, say 1/1,000,000,000, or 1/1,000,000,000,000, or $10^{-16}$; whatever.\n",
    "\n",
    "\n",
    "* Now suppose you can always find an $n$ and and $m$ where \n",
    "\n",
    "$$ \\large | r_{n} - r_{m} |  < 10^{-16}.$$\n",
    "\n",
    "\n",
    "* And the distance *never* get bigger than that for any numbers higher than $n$, $m$.\n",
    "\n",
    "\n",
    "* And if someone had said $10^{-\\mathrm{googolplex}}$, we would have been able to find an $n$ and $m$ for that too. \n",
    "\n",
    "\n",
    "* We call this kind of sequence of rational numbers a ***Cauchy sequence***. \n",
    "\n",
    "\n",
    "* It looks like it's going *somewhere*. \n",
    "\n",
    "\n",
    "* But it's just a bunch of rational numbers at *every step of the way.*\n",
    "\n",
    "The thing about these kinds of sequences is that there may not be a rational number at the end of it. The definition is to just make a bigger set of numbers that includes these limits that you can never get to. After that we just go on our way as if nothing was ever awkward."
   ]
  },
  {
   "cell_type": "markdown",
   "metadata": {},
   "source": [
    "### Here's an example of one such sequence."
   ]
  },
  {
   "cell_type": "markdown",
   "metadata": {},
   "source": [
    "Take $r_{0} = 1$.  At every step of the sequence, define \n",
    "\n",
    "$$\\large r_{n+1} = \\frac{r_{n}+2}{r_{n}+1}$$\n",
    "\n",
    "Nothing but a bunch of rationals all the way... It's also possible to prove that the terms get closer and closer together. \n"
   ]
  },
  {
   "cell_type": "markdown",
   "metadata": {},
   "source": [
    "## Continued fractions\n",
    "\n",
    "What you are seeing is an example of a ***continued fraction*** sequence.  \n",
    "\n",
    "$$\\Huge 1+\\frac{1}{2+\\frac{1}{2+\\frac{1}{2+\\frac{1}{2+\\frac{1}{2+\\frac{1}{2+\\frac{1}{2 \\cdots}}}}}}}$$\n",
    "\n",
    "Continued fractions are a \"natural\" way of both rational and irrational numbers as sequences of integers. To know what I mean by \"natural\", it helps to understand how the decimal representations we use every day can be weird sometimes. "
   ]
  },
  {
   "cell_type": "markdown",
   "metadata": {},
   "source": [
    "## The decimal system"
   ]
  },
  {
   "cell_type": "markdown",
   "metadata": {},
   "source": [
    "$$\\large x = \\lim_{D\\to \\infty}\\ \\sum_{i=-D}^{D} d_i 10^{i},$$\n",
    "\n",
    "with \n",
    "\n",
    "$$\\large d_{i} \\in \\{0,1,2,3,4,5,6,7,8,9\\}.$$"
   ]
  },
  {
   "cell_type": "markdown",
   "metadata": {},
   "source": [
    "Notice that I took the limit as the range of terms $[-D,+D]$ goes to $\\infty$. This is because we can't really ever get everything in one place. The Decimal system is just one more way of looking at sequences of rational numbers. And we know there are some drawbacks to this also.  \n",
    "\n",
    "Numbers like $1/3$ have decimal representations that go on repeating forever. If you want to represent $1/3$ exactly you need to use a base-3 system. \n",
    "\n",
    "But we still need to calculate with numbers like $\\pi$ and $1/3$. But we cannot fit them in our finite computers. This leads to one of the two main sources of error in computations. \n",
    "\n"
   ]
  },
  {
   "cell_type": "markdown",
   "metadata": {},
   "source": [
    "## Almost uniqueness\n",
    "\n",
    "Decimal and binary system (and all other integer-base systems) have the nice property that they are (almost) \"unique\". That is if any two numbers have the same binary or decimal expansion, then they are the same number.\n",
    "\n",
    "**There is one important exception to this.** \n",
    "\n",
    "In decimal, the number \n",
    "\n",
    "$$\\large u =  0.9999999999999999999\\ (\\mathrm{repeting})$$\n",
    "\n",
    "is not it's own number. In fact, this number is equal \n",
    "\n",
    "$$ \n",
    "\\large u = 1\n",
    "$$\n",
    "\n",
    "There are a lot of clever ways to prove this. For example:"
   ]
  },
  {
   "cell_type": "markdown",
   "metadata": {},
   "source": [
    "$$ \\large \\frac{u}{10} = 0.0999999999999999999\\ (\\mathrm{repeting})$$\n",
    "\n",
    "This is *exactly* the same thing as\n",
    "\n",
    "$$ \\large u - \\frac{u}{10} = 0.9 = \\frac{9}{10}$$\n",
    "\n",
    "Therefore\n",
    "\n",
    "$$\\large u = 1$$"
   ]
  },
  {
   "cell_type": "markdown",
   "metadata": {},
   "source": [
    "## Infinity paradoxes \n",
    "\n",
    "Weird things like this happen when dealing with infinity. This is related to the \"Hilbert's Hotel\" paradox:\n",
    "\n",
    "https://en.wikipedia.org/wiki/Hilbert's_paradox_of_the_Grand_Hotel\n",
    "\n",
    "### Rule of thumb: It's best to just consider finite things, and think about limits.\n",
    "\n",
    "In fact, ***whenever possible***, keep everything *finite* as long as possible. Take limits after everything is done. People think something deep is going on when playing with infinities. It's just parlour tricks. \n",
    "Taking $x=-1$ in the infinite series produces the ***Eilenberg--Mazur swindle***:\n",
    "\n",
    "$$\n",
    "\\large 1 \\ = \\  1 + (-1 + 1) + (-1 + 1) + \\ldots \\ = \\  1 - 1 + 1 - 1 + \\ldots \\ = \\  (1 - 1) + (1 - 1) + \\ldots \\ = \\  0 \n",
    "$$\n",
    "\n",
    "Changing the location of the $(\\, )$ \"proves\" that $1=0$; you can use this to prove any other absurd thing you want.  The resolution to this comes from considering the finite version. \n",
    "\n",
    "<h2><center>Infinite things are not always associative.</center></h2>\n",
    "\n",
    "### Here is what's really going on (of course)\n",
    "\n",
    "$$\n",
    "\\large \\sum_{k=0}^{n-1 } (-1)^{k}  \\ = \\  \\begin{cases} 1 & \\mathrm{if}\\  n \\ \\mathrm{is} \\ \\mathrm{even} \\\\ 0 &   \\mathrm{if}\\  n \\ \\mathrm{is} \\ \\mathrm{odd} \\end{cases}\n",
    "$$\n",
    "\n",
    "This doesn't have a well-defined limit. Although it is possible to make sense of the sum in some specific cases. In those cases, it's usally clear what needs to be done. \n",
    "\n",
    "**The *GREAT* thing about a computer is you can *NEVER* make anything *ACTUALLY INFINITY*.**\n",
    "\n",
    "All you can ever hope for is answers that get closer and closer to something finite.\n"
   ]
  },
  {
   "cell_type": "markdown",
   "metadata": {},
   "source": [
    "**Continued fractions** are a clean way of defining numbers without reference to a (non-unique) base system. It also avoids practical and fundemantal issues with repeting sequences.  \n",
    "\n",
    "We use the following notation to represent continued fraction sequences\n",
    "\n",
    "$$ \\huge [a_{0}; a_{1}, a_{2}, a_{3}, \\ldots ] \\ \\equiv \\  a_{0}+\\frac{1}{a_{1}+\\frac{1}{a_{2}+\\frac{1}{a_{3}+\\frac{1}{a_{4}+\\frac{1}{a_{5}+\\frac{1}{a_{6}+\\frac{1}{a_{7} \\cdots}}}}}}}$$\n",
    "\n",
    "\n",
    "For $i\\ge1$, all of the $a_{i}$s are positive integers; $a_{0}$ can be a positive or negative integer. \n",
    "\n",
    "https://en.wikipedia.org/wiki/Continued_fraction\n",
    "\n",
    "\n",
    "* The continued fraction representation for a rational number is finite and only rational numbers have finite  representations. In contrast, the decimal representation of a rational number may be finite. \n",
    "\n",
    "For example:  $137/1600 = 0.085625$, or infinite with a repeating cycle, for example $4/27 = 0.148148148148….$\n",
    "\n",
    "\n",
    "* Every rational number has an essentially unique continued fraction representation. Each rational can be represented in exactly two ways.\n",
    "    \n",
    "Since $[a_{0};a_{1},… a_{n−1},a_{n}] = [a_{0};a_{1},… a_{n−1},(a_{n}−1),1]$. Usually the first, shorter one, is chosen as the ***canonical representation***.\n",
    "\n",
    "* The continued fraction representation of an irrational number is *unique.*\n",
    "\n",
    "\n",
    "* The real numbers whose continued fraction eventually repeats are precisely the *quadratic irrationals*; ie, the solution to quadratic equations.\n",
    "    \n",
    "For example: the repeating continued fraction \n",
    "\n",
    "$$\\large \\phi = \\frac{1+\\sqrt{5}}{2} \\ = \\ [1;1,1,1,…]$$\n",
    "\n",
    "is the ***golden ratio***. \n",
    "\n",
    "The repeating continued fraction \n",
    "\n",
    "$$\\large \\sqrt{2} \\ = \\ [1;2,2,2,…]$$ \n",
    "\n",
    "is the square root of 2. \n",
    "\n",
    "In contrast, the decimal representations of quadratic irrationals are apparently random. The square roots of all (positive) integers, that are not perfect squares, are quadratic irrationals, hence are unique periodic continued fractions.\n",
    "\n",
    "For example:\n",
    "\n",
    "$$\\large \\pi \\ = \\ [3; 7, 15, 1, 292, 1, 1, 1, 2, 1, 3, 1, 14, 2, 1, 1, 2, 2, 2, 2, \\ldots]$$\n",
    "\n",
    "$$\\large e \\ = \\ [2; 1, 2, 1, 1, 4, 1, 1, 6, 1, 1, 8, 1, 1, 10, 1, 1, 12, 1, 1,\\ldots]$$\n",
    "\n",
    "* The successive approximations generated in finding the continued fraction representation of a number, i.e. by truncating the continued fraction representation, are in a certain sense (described below) the \"best possible\".\n",
    "\n",
    "For example:\n",
    "\n",
    "$$\\large \\pi \\ \\approx \\ 3 \\ \\approx \\frac{22}{7} \\ \\approx \\ \\frac{333}{106} \\ \\approx \\frac{355}{113} \\ \\approx \\ \\frac{103993}{33102}$$\n",
    "\n",
    "The errors are:\n",
    "\n",
    "$$\n",
    "\\large \\frac{|\\pi - \\pi_{n}|}{\\pi} \\ = \\  4.5 \\times 10^{-2}, \\ \\ 4.0 \\times 10^{-4}, \\ \\  2.6\\times 10^{-5}, \\ \\ 8.5\\times 10^{-8}, \\ \\  1.8\\times 10^{-10} \n",
    "$$\n",
    "\n",
    "By definition the $i$th decimal truncation is only accurate to $\\approx 10^{-i}$.\n",
    "\n",
    "The golden ratio is the ***\"most irrational number\"***. That is, it has the slowest converging continued fraction sequence. This is the reason it shows up in a lot of applications. Sometimes (like in plants) it's best to have things as far away from rational ratios as possible. \n"
   ]
  },
  {
   "cell_type": "markdown",
   "metadata": {},
   "source": [
    "The iteration that generates the golden ratio continued fraction sequence is \n",
    "\n",
    "$$\\large r_{n+1} \\ = \\ \\frac{r_{n} +1}{r_{n}}$$\n",
    "\n",
    "And $r_{0} = 1$. It looks a lot like the sequence that generates $\\sqrt{2}$. The limiting case is where the iterates stop changing. Ie, $r_{n+1} = r_{n}$.  Solving \n",
    "\n",
    "$$\\large \\phi \\ = \\ \\frac{1+\\phi}{\\phi} $$\n",
    "\n",
    "indeed gives the expected answer."
   ]
  },
  {
   "cell_type": "code",
   "execution_count": null,
   "metadata": {},
   "outputs": [],
   "source": [
    "import numpy as np\n",
    "\n",
    "phi = (1+np.sqrt(5))/2\n",
    "print(phi)"
   ]
  },
  {
   "cell_type": "markdown",
   "metadata": {},
   "source": [
    "Here is the simplest way to express the recursion in code:"
   ]
  },
  {
   "cell_type": "code",
   "execution_count": null,
   "metadata": {},
   "outputs": [],
   "source": [
    "def f(n):\n",
    "    if n == 0: return 1\n",
    "    return (f(n-1)+1)/f(n-1)"
   ]
  },
  {
   "cell_type": "markdown",
   "metadata": {},
   "source": [
    "**BTW:** It's very important that this has a way to stop is `n==0`."
   ]
  },
  {
   "cell_type": "markdown",
   "metadata": {},
   "source": [
    "Try different values and see how it behaves:"
   ]
  },
  {
   "cell_type": "markdown",
   "metadata": {},
   "source": [
    "This should happen fast:"
   ]
  },
  {
   "cell_type": "code",
   "execution_count": null,
   "metadata": {},
   "outputs": [],
   "source": [
    "f(1)"
   ]
  },
  {
   "cell_type": "markdown",
   "metadata": {},
   "source": [
    "You might notice that this doesn't happen right away:"
   ]
  },
  {
   "cell_type": "code",
   "execution_count": null,
   "metadata": {},
   "outputs": [],
   "source": [
    "f(10)"
   ]
  },
  {
   "cell_type": "markdown",
   "metadata": {},
   "source": [
    "This will take long enough to really notice"
   ]
  },
  {
   "cell_type": "code",
   "execution_count": null,
   "metadata": {},
   "outputs": [],
   "source": [
    "f(23)"
   ]
  },
  {
   "cell_type": "markdown",
   "metadata": {},
   "source": [
    "## Use `print` to find out what's going on.\n",
    "\n",
    "It wouldn't be wise to go much further. But the question is why? Are recursive function really not a good idea in general. Are they always doomed to slowness?\n",
    "\n",
    "`print` statements are the go-to way to debugg code. This will help you figgure out what's going on, and maybe suggest a way to fix it:"
   ]
  },
  {
   "cell_type": "code",
   "execution_count": null,
   "metadata": {},
   "outputs": [],
   "source": [
    "def f(n):\n",
    "    if n == 0: return 1\n",
    "    print('n:',n)\n",
    "    return (f(n-1)+1)/f(n-1)"
   ]
  },
  {
   "cell_type": "code",
   "execution_count": null,
   "metadata": {},
   "outputs": [],
   "source": [
    "f(1)"
   ]
  },
  {
   "cell_type": "code",
   "execution_count": null,
   "metadata": {},
   "outputs": [],
   "source": [
    "f(2)"
   ]
  },
  {
   "cell_type": "code",
   "execution_count": null,
   "metadata": {},
   "outputs": [],
   "source": [
    "f(3)"
   ]
  },
  {
   "cell_type": "markdown",
   "metadata": {},
   "source": [
    "We can see the issue. Each level n, is calling each lower level twice. \n",
    "\n",
    "n=1 --> 1  calls\n",
    "\n",
    "n=2 --> 3  calls\n",
    "\n",
    "n=3 --> 7  calls\n",
    "\n",
    "n=4 --> 15 calls\n",
    "\n",
    "n=k --> (`2**k - 1`) calls\n",
    "\n",
    "This is an **exponential** increase in computation with each level. **BAD!**  \n",
    "\n",
    "## Using memory to save computation\n",
    "\n",
    "But it doesn't need to be this way. A little care saves a lot of effort. The idea is to use a little bit of \"memory\" to store the value of $f(n-1)$ and use that value two times in the return statement."
   ]
  },
  {
   "cell_type": "code",
   "execution_count": null,
   "metadata": {},
   "outputs": [],
   "source": [
    "def f(n):\n",
    "    if n == 0: return 1\n",
    "    print('n:',n)\n",
    "    temp = f(n-1)\n",
    "    return (temp+1)/temp"
   ]
  },
  {
   "cell_type": "markdown",
   "metadata": {},
   "source": [
    "Now it should behave much better:"
   ]
  },
  {
   "cell_type": "code",
   "execution_count": null,
   "metadata": {},
   "outputs": [],
   "source": [
    "f(1)"
   ]
  },
  {
   "cell_type": "code",
   "execution_count": null,
   "metadata": {},
   "outputs": [],
   "source": [
    "f(2)"
   ]
  },
  {
   "cell_type": "code",
   "execution_count": null,
   "metadata": {},
   "outputs": [],
   "source": [
    "f(10)"
   ]
  },
  {
   "cell_type": "code",
   "execution_count": null,
   "metadata": {},
   "outputs": [],
   "source": [
    "f(100)"
   ]
  },
  {
   "cell_type": "markdown",
   "metadata": {},
   "source": [
    "There absolutely no way we would ever have been able to computer $f(100)$ using the other method. Memory is a way to avoid redundant computations. And sometimes this is a huge deal. \n",
    "\n",
    "## Rewriting expressions to save memory and computation\n",
    "\n",
    "In the current problem you don't really need to use the temp variable. You could just reformulate the `return` statement to only call `f(n-1)` one time. This is not always easy. "
   ]
  },
  {
   "cell_type": "code",
   "execution_count": null,
   "metadata": {},
   "outputs": [],
   "source": [
    "def f(n):\n",
    "    if n == 0: return 1\n",
    "    print('n:',n)\n",
    "    return 1 + (1/f(n-1))\n",
    "\n",
    "f(30)"
   ]
  },
  {
   "cell_type": "markdown",
   "metadata": {},
   "source": [
    "The big problem with continued fractions is they are really hard to compute arithmitic with. It's a lot like Roman Numerials. The best way to do it is to convert them into decimals, add, subtract, multiply, divide, and then convert them back. That is why we use floating-point numbers."
   ]
  },
  {
   "cell_type": "code",
   "execution_count": null,
   "metadata": {},
   "outputs": [],
   "source": []
  }
 ],
 "metadata": {
  "kernelspec": {
   "display_name": "Python 3",
   "language": "python",
   "name": "python3"
  },
  "language_info": {
   "codemirror_mode": {
    "name": "ipython",
    "version": 3
   },
   "file_extension": ".py",
   "mimetype": "text/x-python",
   "name": "python",
   "nbconvert_exporter": "python",
   "pygments_lexer": "ipython3",
   "version": "3.7.2"
  }
 },
 "nbformat": 4,
 "nbformat_minor": 2
}
